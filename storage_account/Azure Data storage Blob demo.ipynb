{
 "cells": [
  {
   "cell_type": "code",
   "execution_count": 1,
   "id": "ff7ac51c-8add-413e-b3ef-abec8a93af98",
   "metadata": {},
   "outputs": [],
   "source": [
    "#mkdir blob-quickstart"
   ]
  },
  {
   "cell_type": "code",
   "execution_count": 20,
   "id": "d904638c-d248-40d8-ab4b-3f1f401ab351",
   "metadata": {},
   "outputs": [],
   "source": [
    "#brew install azure-cli\n",
    "#az login\n",
    "#export AZURE_STORAGE_CONNECTION_STRING=\"<yourconnectionstring>\""
   ]
  },
  {
   "cell_type": "code",
   "execution_count": 2,
   "id": "3d7ca632-e179-48c8-b8c6-5d5d21c6809b",
   "metadata": {},
   "outputs": [],
   "source": [
    "#pip install azure-storage-blob azure-identity"
   ]
  },
  {
   "cell_type": "code",
   "execution_count": 17,
   "id": "972faf79-442d-4430-8c5a-603e9b0af276",
   "metadata": {},
   "outputs": [
    {
     "name": "stdout",
     "output_type": "stream",
     "text": [
      "Azure Blob Storage Python quickstart sample\n"
     ]
    }
   ],
   "source": [
    "import os, uuid\n",
    "from azure.identity import DefaultAzureCredential\n",
    "from azure.storage.blob import BlobServiceClient, BlobClient, ContainerClient\n",
    "\n",
    "try:\n",
    "    print(\"Azure Blob Storage Python quickstart sample\")\n",
    "\n",
    "    # Quickstart code goes here\n",
    "\n",
    "except Exception as ex:\n",
    "    print('Exception:')\n",
    "    print(ex)"
   ]
  },
  {
   "cell_type": "code",
   "execution_count": 22,
   "id": "1571d510-ab66-4f33-a183-f0a4a9145757",
   "metadata": {},
   "outputs": [],
   "source": [
    "connect_str = os.getenv('AZURE_STORAGE_CONNECTION_STRING')\n",
    "connect_str"
   ]
  },
  {
   "cell_type": "code",
   "execution_count": 30,
   "id": "2b24987f-2ece-4118-aade-588913d9cc3e",
   "metadata": {},
   "outputs": [],
   "source": [
    "#or pass connect_str = <>"
   ]
  },
  {
   "cell_type": "code",
   "execution_count": 23,
   "id": "2bb1e9cf-009f-4e76-9fa2-beab8de01cb6",
   "metadata": {},
   "outputs": [],
   "source": [
    "# Retrieve the connection string for use with the application. The storage\n",
    "# connection string is stored in an environment variable on the machine\n",
    "# running the application called AZURE_STORAGE_CONNECTION_STRING. If the environment variable is\n",
    "# created after the application is launched in a console or with Visual Studio,\n",
    "# the shell or application needs to be closed and reloaded to take the\n",
    "# environment variable into account.\n",
    "#connect_str = os.getenv('AZURE_STORAGE_CONNECTION_STRING')\n",
    "# Create the BlobServiceClient object\n",
    "blob_service_client = BlobServiceClient.from_connection_string(connect_str)"
   ]
  },
  {
   "cell_type": "code",
   "execution_count": 24,
   "id": "a62c3d12-4995-4da2-ade9-85975d608257",
   "metadata": {},
   "outputs": [
    {
     "data": {
      "text/plain": [
       "'d7b78525-dd75-4685-8f12-66e5eb95d4ec'"
      ]
     },
     "execution_count": 24,
     "metadata": {},
     "output_type": "execute_result"
    }
   ],
   "source": [
    "# Create a unique name for the container\n",
    "container_name = str(uuid.uuid4())\n",
    "container_name"
   ]
  },
  {
   "cell_type": "code",
   "execution_count": 25,
   "id": "b2856c59-abec-4533-9e2c-4d77d7fbb8fb",
   "metadata": {},
   "outputs": [],
   "source": [
    "# Create a unique name for the container\n",
    "container_name = str(uuid.uuid4())\n",
    "\n",
    "# Create the container\n",
    "container_client = blob_service_client.create_container(container_name)"
   ]
  },
  {
   "cell_type": "code",
   "execution_count": 26,
   "id": "9998f120-369d-4a59-8d68-2daf371b976f",
   "metadata": {},
   "outputs": [
    {
     "name": "stdout",
     "output_type": "stream",
     "text": [
      "\n",
      "Uploading to Azure Storage as blob:\n",
      "\t70233c34-bd10-44ff-9bef-edce0facb0cc.txt\n"
     ]
    }
   ],
   "source": [
    "# Create a local directory to hold blob data\n",
    "local_path = \"./data\"\n",
    "os.mkdir(local_path)\n",
    "\n",
    "# Create a file in the local data directory to upload and download\n",
    "local_file_name = str(uuid.uuid4()) + \".txt\"\n",
    "upload_file_path = os.path.join(local_path, local_file_name)\n",
    "\n",
    "# Write text to the file\n",
    "file = open(file=upload_file_path, mode='w')\n",
    "file.write(\"Hello, World!\")\n",
    "file.close()\n",
    "\n",
    "# Create a blob client using the local file name as the name for the blob\n",
    "blob_client = blob_service_client.get_blob_client(container=container_name, blob=local_file_name)\n",
    "\n",
    "print(\"\\nUploading to Azure Storage as blob:\\n\\t\" + local_file_name)\n",
    "\n",
    "# Upload the created file\n",
    "with open(file=upload_file_path, mode=\"rb\") as data:\n",
    "    blob_client.upload_blob(data)"
   ]
  },
  {
   "cell_type": "markdown",
   "id": "2a4add26-e9e8-47ec-8d14-690adc417757",
   "metadata": {},
   "source": [
    "### List the blobs in a container"
   ]
  },
  {
   "cell_type": "code",
   "execution_count": 27,
   "id": "cec02b3e-9194-4dd5-929e-b136a553d68a",
   "metadata": {},
   "outputs": [
    {
     "name": "stdout",
     "output_type": "stream",
     "text": [
      "\n",
      "Listing blobs...\n",
      "\t70233c34-bd10-44ff-9bef-edce0facb0cc.txt\n"
     ]
    }
   ],
   "source": [
    "print(\"\\nListing blobs...\")\n",
    "\n",
    "# List the blobs in the container\n",
    "blob_list = container_client.list_blobs()\n",
    "for blob in blob_list:\n",
    "    print(\"\\t\" + blob.name)"
   ]
  },
  {
   "cell_type": "code",
   "execution_count": 28,
   "id": "0e08b19d-7586-4235-b1a7-3273d398531c",
   "metadata": {},
   "outputs": [
    {
     "name": "stdout",
     "output_type": "stream",
     "text": [
      "\n",
      "Downloading blob to \n",
      "\t./data/70233c34-bd10-44ff-9bef-edce0facb0ccDOWNLOAD.txt\n"
     ]
    }
   ],
   "source": [
    "# Download the blob to a local file\n",
    "# Add 'DOWNLOAD' before the .txt extension so you can see both files in the data directory\n",
    "download_file_path = os.path.join(local_path, str.replace(local_file_name ,'.txt', 'DOWNLOAD.txt'))\n",
    "container_client = blob_service_client.get_container_client(container= container_name) \n",
    "print(\"\\nDownloading blob to \\n\\t\" + download_file_path)\n",
    "\n",
    "with open(file=download_file_path, mode=\"wb\") as download_file:\n",
    "    download_file.write(container_client.download_blob(blob.name).readall())"
   ]
  },
  {
   "cell_type": "code",
   "execution_count": 29,
   "id": "83d6e282-7669-4a0c-a32b-0ecea2de7a95",
   "metadata": {},
   "outputs": [
    {
     "name": "stdout",
     "output_type": "stream",
     "text": [
      "\n",
      "Press the Enter key to begin clean up\n"
     ]
    },
    {
     "name": "stdin",
     "output_type": "stream",
     "text": [
      " \n"
     ]
    },
    {
     "name": "stdout",
     "output_type": "stream",
     "text": [
      "Deleting blob container...\n",
      "Deleting the local source and downloaded files...\n",
      "Done\n"
     ]
    }
   ],
   "source": [
    "# Clean up\n",
    "print(\"\\nPress the Enter key to begin clean up\")\n",
    "input()\n",
    "\n",
    "print(\"Deleting blob container...\")\n",
    "container_client.delete_container()\n",
    "\n",
    "print(\"Deleting the local source and downloaded files...\")\n",
    "os.remove(upload_file_path)\n",
    "os.remove(download_file_path)\n",
    "os.rmdir(local_path)\n",
    "\n",
    "print(\"Done\")"
   ]
  },
  {
   "cell_type": "code",
   "execution_count": null,
   "id": "151d5094-578e-4e04-b00f-b6e1bffa4a8a",
   "metadata": {},
   "outputs": [],
   "source": []
  }
 ],
 "metadata": {
  "kernelspec": {
   "display_name": "Python 3 (ipykernel)",
   "language": "python",
   "name": "python3"
  },
  "language_info": {
   "codemirror_mode": {
    "name": "ipython",
    "version": 3
   },
   "file_extension": ".py",
   "mimetype": "text/x-python",
   "name": "python",
   "nbconvert_exporter": "python",
   "pygments_lexer": "ipython3",
   "version": "3.9.17"
  }
 },
 "nbformat": 4,
 "nbformat_minor": 5
}
